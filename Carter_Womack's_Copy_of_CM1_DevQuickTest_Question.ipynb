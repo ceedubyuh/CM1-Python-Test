{
  "nbformat": 4,
  "nbformat_minor": 0,
  "metadata": {
    "colab": {
      "provenance": []
    },
    "kernelspec": {
      "name": "python3",
      "display_name": "Python 3"
    },
    "language_info": {
      "name": "python"
    }
  },
  "cells": [
    {
      "cell_type": "markdown",
      "source": [
        "### Test Instructions\n",
        "The purpose of this simple coding test is to allow us to get a grasp on the quality of your code and to identify the role that would suit you best within our team. You don't NEED to be able to answer all of the items, but the ones that you do answer need to be correct. Feel free to use Google or any other tools that you prefer to complete these tasks.\n",
        "\n",
        "Install any needed third-party libraries below this block. Please install the minimum amount of libraries you need."
      ],
      "metadata": {
        "id": "rHaZgOQJ_cH2"
      }
    },
    {
      "cell_type": "markdown",
      "source": [
        "!pip install whatever_you_need"
      ],
      "metadata": {
        "id": "DS8Y5bTE_cNX"
      }
    },
    {
      "cell_type": "code",
      "source": [
        "!pip install numpy\n",
        "!pip install pandas\n",
        "!pip install matplotlib"
      ],
      "metadata": {
        "id": "GeZ98TNS_ZDK"
      },
      "execution_count": null,
      "outputs": []
    },
    {
      "cell_type": "markdown",
      "source": [
        "### Task 1 (Data manipulation / Visualization)\n",
        "Download the file: https://drive.google.com/file/d/1R_M3xI3b_BqAN_xWLqJDneg273X_sok5/view?usp=sharing\n",
        "\n",
        "In `message_data.csv` there's two columns, one corresponds to the unique id of someone sending a message and the other one to when they sent it.\n",
        "\n",
        "Generate an interactive chart that shows the percentage of daily messages sent by new users (those who sent their first message ever on a given day)."
      ],
      "metadata": {
        "id": "tT8GriLI_qcl"
      }
    },
    {
      "cell_type": "code",
      "source": [
        "import pandas as pd\n",
        "import matplotlib.pyplot as plt\n",
        "\n",
        "#Open dataframe\n",
        "dataframe = pd.read_csv('message_data.csv')\n",
        "#Convert message_time column to datetime for later\n",
        "dataframe['message_time'] = pd.to_datetime(dataframe['message_time'])\n",
        "#Grab each unique message\n",
        "daily_messages = dataframe.groupby(dataframe['message_time'].dt.date)['author_id'].nunique()\n",
        "#Sum the total unique users a day\n",
        "total_messages = daily_messages.cumsum()\n",
        "#Calculate the percentage of messages from new users\n",
        "new_users = (daily_messages / total_messages) * 100\n",
        "\n",
        "#Draw Plot\n",
        "plt.plot(new_users.index, new_users)\n",
        "plt.xlabel('Date')\n",
        "plt.ylabel('Percentage of New Users')\n",
        "plt.title('Percentage of Daily Messages Sent by New Users')\n",
        "plt.xticks(rotation=45)\n",
        "plt.grid(True)\n",
        "plt.show()"
      ],
      "metadata": {
        "id": "gMe_jfXp_2zu"
      },
      "execution_count": null,
      "outputs": []
    },
    {
      "cell_type": "markdown",
      "source": [
        "### Task 2 (Django)\n",
        "**To take the django portion of this test go to: https://github.com/llu13701/cm1_python_test and follow the instructions.**"
      ],
      "metadata": {
        "id": "DDe4I-E-_1M-"
      }
    },
    {
      "cell_type": "code",
      "source": [],
      "metadata": {
        "id": "hF_IbJXY_rV5"
      },
      "execution_count": null,
      "outputs": []
    },
    {
      "cell_type": "markdown",
      "source": [
        "### Task 3 (LangChain)\n",
        "Write a simple Chain that does the following:\n",
        "- Uses openai's gpt-3.5-turbo model.\n",
        "- Remembers the last 2 message exchanges, as well as the system message.\n",
        "- Greets people and tells a joke about their name."
      ],
      "metadata": {
        "id": "o6MoFpH7_tn2"
      }
    },
    {
      "cell_type": "code",
      "source": [],
      "metadata": {
        "id": "flO7_-oA_xXv"
      },
      "execution_count": null,
      "outputs": []
    },
    {
      "cell_type": "markdown",
      "source": [
        "### Task 4 (Discord API)\n",
        "\n",
        "Write a very simple discord bot that says \"Hello {user_name}!\" to every new incoming message in a discord server.\n"
      ],
      "metadata": {
        "id": "HMAawESH_32U"
      }
    },
    {
      "cell_type": "code",
      "source": [
        "import discord\n",
        "from discord.ext import commands\n",
        "\n",
        "intents = discord.Intents.default()\n",
        "intents.message_content = True\n",
        "\n",
        "bot = commands.Bot(command_prefix='!', intents=intents)\n",
        "\n",
        "@bot.event\n",
        "async def on_ready():\n",
        "    print(f'Bot is ready. Logged in as {bot.user.name}')\n",
        "\n",
        "@bot.event\n",
        "async def on_message(message):\n",
        "    if message.author == bot.user:\n",
        "        return\n",
        "\n",
        "    channel = message.channel\n",
        "    user_name = message.author.name\n",
        "    response = f'Hello {user_name}!'\n",
        "\n",
        "    await channel.send(response)\n",
        "\n",
        "    await bot.process_commands(message)\n",
        "\n",
        "bot.run('token for the bot')\n",
        "# without using an actual token for this tests purposes\n",
        "# this code should work if a token was generated"
      ],
      "metadata": {
        "id": "D_xPdNDk_4OY"
      },
      "execution_count": null,
      "outputs": []
    },
    {
      "cell_type": "markdown",
      "source": [
        "### Task 5\n",
        "Use LangChain to write a discord bot that will:\n",
        "- Greet a user, making a joke about their name and then proceed to answer any question they have, whenever a user sends a message.\n",
        "- Use async with langchain chain calls.\n"
      ],
      "metadata": {
        "id": "shZgOMw7_4fS"
      }
    },
    {
      "cell_type": "code",
      "source": [],
      "metadata": {
        "id": "6Wxh-dWx_4oy"
      },
      "execution_count": null,
      "outputs": []
    },
    {
      "cell_type": "code",
      "source": [],
      "metadata": {
        "id": "gxofoCWyCw6t"
      },
      "execution_count": null,
      "outputs": []
    }
  ]
}